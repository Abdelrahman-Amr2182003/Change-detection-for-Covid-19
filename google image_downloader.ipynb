{
 "cells": [
  {
   "cell_type": "code",
   "execution_count": null,
   "metadata": {},
   "outputs": [],
   "source": [
    "from selenium import webdriver\n",
    "import time as t\n",
    "from selenium.webdriver.common.keys import Keys\n",
    "from selenium.webdriver.common.by import By\n",
    "import urllib\n",
    "chrome_options = webdriver.ChromeOptions() \n",
    "chrome_options.add_experimental_option(\"excludeSwitches\", ['enable-automation'])\n",
    "driver = webdriver.Chrome(executable_path='chromedriver.exe',options=chrome_options)  \n",
    "driver.get(\"https://www.google.com/search?q=tourist+crowds+and+social+places&tbm=isch&ved=2ahUKEwi6p7fK-cruAhWaxeAKHWVhClcQ2-cCegQIABAA&oq=tourist+crowds+and+social+places&gs_lcp=CgNpbWcQAzIECCMQJ1COKliOKmDRMmgAcAB4AIAB3AGIAdwBkgEDMi0xmAEAoAEBqgELZ3dzLXdpei1pbWfAAQE&sclient=img&ei=uCMZYLrrHZqLgwflwqm4BQ&bih=852&biw=1745&rlz=1C1CHBF_enEG820EG820&safe=active\")\n",
    "t.sleep(3)\n",
    "pics=driver.find_element_by_xpath('//*[@id=\"islrg\"]/div[1]')\n",
    "links=[]\n",
    "x=1\n",
    "last_height=0\n",
    "def download_image(url,filename):\n",
    "    resource = urllib.request.urlopen(url)\n",
    "    output = open(filename,\"wb\")\n",
    "    output.write(resource.read())\n",
    "    output.close()\n",
    "while True:\n",
    "    driver.execute_script(\"window.scrollTo(0, document.body.scrollHeight);\")\n",
    "    t.sleep(4)\n",
    "    pics_=pics.find_elements_by_xpath('./*')# //*[@id=\"islrg\"]/div[1]/div[1]\n",
    "    for pic in pics_:\n",
    "        try:\n",
    "            img_link=pic.find_element_by_xpath('a[1]/div[1]/img').get_attribute('src') \n",
    "            if img_link not in links:\n",
    "                links.append(img_link)\n",
    "                file_name='pics//'+str(x)+'.jpg'\n",
    "                download_image(img_link,file_name)\n",
    "                x+=1\n",
    "        except:\n",
    "            print('-',end='')\n",
    "    new_height = driver.execute_script(\"return document.body.scrollHeight\")\n",
    "    if new_height == last_height:\n",
    "        break\n",
    "    last_height = new_height\n",
    "        \n",
    "        \n",
    "driver.close()"
   ]
  }
 ],
 "metadata": {
  "kernelspec": {
   "display_name": "Python 3",
   "language": "python",
   "name": "python3"
  },
  "language_info": {
   "codemirror_mode": {
    "name": "ipython",
    "version": 3
   },
   "file_extension": ".py",
   "mimetype": "text/x-python",
   "name": "python",
   "nbconvert_exporter": "python",
   "pygments_lexer": "ipython3",
   "version": "3.7.11"
  }
 },
 "nbformat": 4,
 "nbformat_minor": 4
}

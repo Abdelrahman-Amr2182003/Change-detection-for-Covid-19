{
 "cells": [
  {
   "cell_type": "markdown",
   "metadata": {},
   "source": [
    "### get pie chart of data_set size"
   ]
  },
  {
   "cell_type": "code",
   "execution_count": 54,
   "metadata": {},
   "outputs": [
    {
     "data": {
      "image/png": "[encoded data removed]",
      "text/plain": [
       "<Figure size 432x288 with 1 Axes>"
      ]
     },
     "metadata": {},
     "output_type": "display_data"
    }
   ],
   "source": [
    "import matplotlib.pyplot as plt\n",
    "import numpy as np\n",
    "import glob\n",
    "import cv2\n",
    "test_size=0.2\n",
    "folders=glob.glob('data//*')\n",
    "n_classes=len(folders)\n",
    "lens=list()\n",
    "classes=list()\n",
    "for i in folders:\n",
    "    len_images=len(glob.glob(f'{i}//*'))\n",
    "    classs=i.split('\\\\')[-1]\n",
    "    train_l=int(len_images*(1-test_size))\n",
    "    test_l=len_images-train_l\n",
    "    lens.append(int(train_l))\n",
    "    classes.append(classs+'_train')\n",
    "    lens.append(int(test_l))\n",
    "    classes.append(classs+'_test')\n",
    "lens=np.array(lens)\n",
    "        \n",
    "        \n",
    "plt.pie(lens,labels=classes)\n",
    "#plt.legend()\n",
    "plt.savefig('data pie chart.png')\n",
    "plt.show()\n",
    "    "
   ]
  },
  {
   "cell_type": "markdown",
   "metadata": {},
   "source": [
    "### bar plot"
   ]
  },
  {
   "cell_type": "code",
   "execution_count": 57,
   "metadata": {},
   "outputs": [
    {
     "name": "stderr",
     "output_type": "stream",
     "text": [
      "E:\\conda\\envs\\iris\\lib\\site-packages\\ipykernel_launcher.py:2: MatplotlibDeprecationWarning: savefig() got unexpected keyword argument \"width\" which is no longer supported as of 3.3 and will become an error two minor releases later\n",
      "  \n"
     ]
    },
    {
     "data": {
      "image/png": "[encoded data removed]",
      "text/plain": [
       "<Figure size 432x288 with 1 Axes>"
      ]
     },
     "metadata": {
      "needs_background": "light"
     },
     "output_type": "display_data"
    }
   ],
   "source": [
    "plt.bar(classes,lens)\n",
    "plt.savefig('data bar chart.png',width=0.5)\n",
    "plt.show()"
   ]
  },
  {
   "cell_type": "code",
   "execution_count": 32,
   "metadata": {},
   "outputs": [],
   "source": [
    "from sklearn.model_selection import train_test_split\n",
    "infected_dirs=glob.glob(r'data//COVID//*')\n",
    "normal_dirs=glob.glob(r'data//non-COVID//*')\n",
    "my_list=[normal_dirs,infected_dirs]\n",
    "X=[]\n",
    "y=[]\n",
    "for index_dirs,dirs in enumerate(my_list):\n",
    "    for img_dir in dirs:\n",
    "        img=cv2.imread(img_dir)\n",
    "        img=cv2.resize(img,(256,256))\n",
    "        img=np.array(img)\n",
    "        X.append(img)\n",
    "        y.append(index_dirs)\n",
    "        \n",
    "np_x=np.array(X)\n",
    "np_y=np.array(y)\n",
    "X_train, X_test, y_train, y_test = train_test_split(np_x, np_y, test_size=0.2, random_state=10)\n"
   ]
  },
  {
   "cell_type": "code",
   "execution_count": 33,
   "metadata": {},
   "outputs": [
    {
     "name": "stderr",
     "output_type": "stream",
     "text": [
      "Using TensorFlow backend.\n",
      "E:\\conda\\envs\\iris\\lib\\site-packages\\tensorflow\\python\\framework\\dtypes.py:526: FutureWarning: Passing (type, 1) or '1type' as a synonym of type is deprecated; in a future version of numpy, it will be understood as (type, (1,)) / '(1,)type'.\n",
      "  _np_qint8 = np.dtype([(\"qint8\", np.int8, 1)])\n",
      "E:\\conda\\envs\\iris\\lib\\site-packages\\tensorflow\\python\\framework\\dtypes.py:527: FutureWarning: Passing (type, 1) or '1type' as a synonym of type is deprecated; in a future version of numpy, it will be understood as (type, (1,)) / '(1,)type'.\n",
      "  _np_quint8 = np.dtype([(\"quint8\", np.uint8, 1)])\n",
      "E:\\conda\\envs\\iris\\lib\\site-packages\\tensorflow\\python\\framework\\dtypes.py:528: FutureWarning: Passing (type, 1) or '1type' as a synonym of type is deprecated; in a future version of numpy, it will be understood as (type, (1,)) / '(1,)type'.\n",
      "  _np_qint16 = np.dtype([(\"qint16\", np.int16, 1)])\n",
      "E:\\conda\\envs\\iris\\lib\\site-packages\\tensorflow\\python\\framework\\dtypes.py:529: FutureWarning: Passing (type, 1) or '1type' as a synonym of type is deprecated; in a future version of numpy, it will be understood as (type, (1,)) / '(1,)type'.\n",
      "  _np_quint16 = np.dtype([(\"quint16\", np.uint16, 1)])\n",
      "E:\\conda\\envs\\iris\\lib\\site-packages\\tensorflow\\python\\framework\\dtypes.py:530: FutureWarning: Passing (type, 1) or '1type' as a synonym of type is deprecated; in a future version of numpy, it will be understood as (type, (1,)) / '(1,)type'.\n",
      "  _np_qint32 = np.dtype([(\"qint32\", np.int32, 1)])\n",
      "E:\\conda\\envs\\iris\\lib\\site-packages\\tensorflow\\python\\framework\\dtypes.py:535: FutureWarning: Passing (type, 1) or '1type' as a synonym of type is deprecated; in a future version of numpy, it will be understood as (type, (1,)) / '(1,)type'.\n",
      "  np_resource = np.dtype([(\"resource\", np.ubyte, 1)])\n"
     ]
    },
    {
     "name": "stdout",
     "output_type": "stream",
     "text": [
      "WARNING:tensorflow:From E:\\conda\\envs\\iris\\lib\\site-packages\\tensorflow\\python\\framework\\op_def_library.py:263: colocate_with (from tensorflow.python.framework.ops) is deprecated and will be removed in a future version.\n",
      "Instructions for updating:\n",
      "Colocations handled automatically by placer.\n",
      "WARNING:tensorflow:From E:\\conda\\envs\\iris\\lib\\site-packages\\keras\\backend\\tensorflow_backend.py:3445: calling dropout (from tensorflow.python.ops.nn_ops) with keep_prob is deprecated and will be removed in a future version.\n",
      "Instructions for updating:\n",
      "Please use `rate` instead of `keep_prob`. Rate should be set to `rate = 1 - keep_prob`.\n",
      "WARNING:tensorflow:From E:\\conda\\envs\\iris\\lib\\site-packages\\tensorflow\\python\\ops\\math_ops.py:3066: to_int32 (from tensorflow.python.ops.math_ops) is deprecated and will be removed in a future version.\n",
      "Instructions for updating:\n",
      "Use tf.cast instead.\n"
     ]
    }
   ],
   "source": [
    "from keras.models import load_model\n",
    "model=load_model('classfier_binary_3.h5')"
   ]
  },
  {
   "cell_type": "code",
   "execution_count": 34,
   "metadata": {},
   "outputs": [],
   "source": [
    "pred_train=model.predict(X_train)\n",
    "pred_test=model.predict(X_test)\n",
    "final_train=[]\n",
    "final_test=[]\n",
    "for i in pred_train:\n",
    "    if i>=0.5:\n",
    "        final_train.append(1)\n",
    "    if i<0.5:\n",
    "        final_train.append(0)\n",
    "for i in pred_test:\n",
    "    if i>=0.5:\n",
    "        final_test.append(1)\n",
    "    if i<0.5:\n",
    "        final_test.append(0)\n",
    "        \n"
   ]
  },
  {
   "cell_type": "code",
   "execution_count": 58,
   "metadata": {},
   "outputs": [
    {
     "name": "stdout",
     "output_type": "stream",
     "text": [
      "train_precsion valueis = 0.9332740213523132   test_precsion value is = 0.9291044776119403\n",
      "train_recall value is = 0.9012027491408935       test_recall value is = 0.8383838383838383\n",
      "train_f1-score is = 0.916958041958042         test_f1-score is = 0.8814159292035398\n",
      "train_accurcy is = 0.9117100371747212               test_accurcy is = 0.8754646840148699\n",
      "\n",
      "\n",
      "\n",
      "train_confusion_matrix =\n",
      "-----------------------------\n",
      "|           | True |  False |\n",
      "|-----------|------|--------|\n",
      "| Posotive  | 1049 |    75  |\n",
      "|-----------|----- |--------|\n",
      "| Negative  | 913  |  115   |\n",
      "-----------------------------\n",
      "test_confusion_matrix =\n",
      "-----------------------------\n",
      "|           | True |  False |\n",
      "|-----------|------|--------|\n",
      "| Posotive  | 249  |    19  |\n",
      "|-----------|----- |--------|\n",
      "| Negative  | 222  |   48   |\n",
      "-----------------------------\n"
     ]
    },
    {
     "data": {
      "image/png": "[encoded data removed]",
      "text/plain": [
       "<Figure size 432x288 with 1 Axes>"
      ]
     },
     "metadata": {
      "needs_background": "light"
     },
     "output_type": "display_data"
    }
   ],
   "source": [
    "def draw_confusion_matrix(conf_matrix):\n",
    "    tp,tn,fp,fn=conf_matrix\n",
    "    print('-----------------------------')\n",
    "    print('|           | True |  False |')\n",
    "    print('|-----------|------|--------|')\n",
    "    print(f'| Posotive  | {tp} |    {fp}  |')\n",
    "    print('|-----------|----- |--------|')\n",
    "    print(f'| Negative  | {tn}  |  {fn}   |')\n",
    "    print('-----------------------------')\n",
    "    \n",
    "    \n",
    "def draw_confusion_matrix2(conf_matrix):\n",
    "    tp,tn,fp,fn=conf_matrix\n",
    "    print('-----------------------------')\n",
    "    print('|           | True |  False |')\n",
    "    print('|-----------|------|--------|')\n",
    "    print(f'| Posotive  | {tp}  |    {fp}  |')\n",
    "    print('|-----------|----- |--------|')\n",
    "    print(f'| Negative  | {tn}  |   {fn}   |')\n",
    "    print('-----------------------------')\n",
    "    \n",
    "tp=0\n",
    "fp=0\n",
    "fn=0\n",
    "tn=0\n",
    "right=0\n",
    "for i in range(len(final_train)):\n",
    "    t=y_train[i]\n",
    "    p=final_train[i]\n",
    "    if p==t:\n",
    "        right+=1\n",
    "    if p==0 and t==0:\n",
    "        tn+=1\n",
    "    if p==0 and t==1:\n",
    "        fn+=1\n",
    "    if p==1 and t==0:\n",
    "        fp+=1\n",
    "    if p==1 and t==1:\n",
    "        tp+=1\n",
    "\n",
    "train_precesion=tp/(tp+fp)\n",
    "train_recall=tp/(tp+fn)\n",
    "train_f1_score=2*((train_precesion*train_recall)/(train_precesion+train_recall))\n",
    "train_confusion_matrix=np.array([tp,tn,fp,fn])\n",
    "train_acc=right/len(final_train)\n",
    "\n",
    "\n",
    "tp=0\n",
    "fp=0\n",
    "fn=0\n",
    "tn=0\n",
    "right=0\n",
    "for i in range(len(final_test)):\n",
    "    t=y_test[i]\n",
    "    p=final_test[i]\n",
    "    if p==t:\n",
    "        right+=1\n",
    "    if p==0 and t==0:\n",
    "        tn+=1\n",
    "    if p==0 and t==1:\n",
    "        fn+=1\n",
    "    if p==1 and t==0:\n",
    "        fp+=1\n",
    "    if p==1 and t==1:\n",
    "        tp+=1\n",
    "\n",
    "\n",
    "        \n",
    "test_precesion=tp/(tp+fp)\n",
    "test_recall=tp/(tp+fn)\n",
    "test_f1_score=2*((test_precesion*test_recall)/(test_precesion+test_recall))\n",
    "test_confusion_matrix=np.array([tp,tn,fp,fn])\n",
    "test_acc=right/len(final_test)\n",
    "\n",
    "print(f'train_precsion valueis = {train_precesion}   test_precsion value is = {test_precesion}')\n",
    "print(f'train_recall value is = {train_recall}       test_recall value is = {test_recall}')\n",
    "print(f'train_f1-score is = {train_f1_score}         test_f1-score is = {test_f1_score}')\n",
    "print(f'train_accurcy is = {train_acc}               test_accurcy is = {test_acc}')\n",
    "\n",
    "\n",
    "\n",
    "print(\"\\n\\n\")\n",
    "print(\"train_confusion_matrix =\")\n",
    "draw_confusion_matrix(train_confusion_matrix)\n",
    "print(\"test_confusion_matrix =\")\n",
    "draw_confusion_matrix2(test_confusion_matrix)\n",
    "\n",
    "#plt.bar(['train_precesion','train_recall','train_f1_score'],np.array([train_precesion,train_recall,train_f1_score]),color='r',width=0.3)\n",
    "#plt.bar(['test_precesion','test_recall','test_f1_score'], np.array([test_precesion,test_recall,test_f1_score]),color='b',width=0.3)\n",
    "plt.bar([0,2,4,6],np.array([train_precesion,train_recall,train_f1_score,train_acc]),color='r',width=0.4)\n",
    "plt.bar([0.4,2.4,4.4,6.4], np.array([test_precesion,test_recall,test_f1_score,test_acc]),color='b',width=0.4)\n",
    "plt.legend(labels=['train','test'],bbox_to_anchor=(0.85,1.025), loc=\"upper right\")\n",
    "plt.xticks([0.15,2.15,4.15,6.15],labels=['precesion','recall','f1-score','accurcy'])\n",
    "plt.savefig('model evaluation chart test-train.png')\n",
    "plt.show()"
   ]
  },
  {
   "cell_type": "code",
   "execution_count": null,
   "metadata": {},
   "outputs": [],
   "source": []
  }
 ],
 "metadata": {
  "kernelspec": {
   "display_name": "Python 3",
   "language": "python",
   "name": "python3"
  },
  "language_info": {
   "codemirror_mode": {
    "name": "ipython",
    "version": 3
   },
   "file_extension": ".py",
   "mimetype": "text/x-python",
   "name": "python",
   "nbconvert_exporter": "python",
   "pygments_lexer": "ipython3",
   "version": "3.7.11"
  }
 },
 "nbformat": 4,
 "nbformat_minor": 4
}
